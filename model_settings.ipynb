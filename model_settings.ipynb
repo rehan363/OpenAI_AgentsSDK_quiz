{
 "cells": [
  {
   "cell_type": "markdown",
   "id": "65fbbbc1",
   "metadata": {},
   "source": [
    "# Temperature\n",
    "\n",
    "Setting: T = 0.9, K = 40, P = 0.99 → rich imagery, unique word choices, engaging sentences.\n",
    "\n",
    "Downshift: T = 0.2, K = 20, P = 0.9 → straightforward, coherent, but less creative."
   ]
  },
  {
   "cell_type": "code",
   "execution_count": null,
   "id": "0393be8e",
   "metadata": {},
   "outputs": [
    {
     "name": "stdout",
     "output_type": "stream",
     "text": [
      "Modified cars: taking a standard vehicle and turning it into a personalized expression of style and performance. From subtle tweaks to extreme overhauls, the possibilities are endless, reflecting the owner's unique vision.\n",
      "\n"
     ]
    }
   ],
   "source": [
    "from hello_agent import run\n",
    "from agents import Agent, Runner, ModelSettings\n",
    "\n",
    "test_agent = Agent(\n",
    "    name=\"blog_writer\",\n",
    "    instructions=\"\"\"you are a blog writer. dont generate blog more than 2 lines.\"\"\",\n",
    "    model_settings=ModelSettings(\n",
    "         temperature=0.9,   #(Low (e.g., 0–0.3): Focuses tightly on high‑probability tokens → deterministic, precise outputs.)\n",
    "         #temperature=1.5   #(High (e.g., 1.2–2.0): Explores more diverse outputs → more randomness, creative, varied responses.)\n",
    "         \n",
    "    )\n",
    "\n",
    "\n",
    ")\n",
    "\n",
    "result = await Runner.run(test_agent, \n",
    "    input=\"write a short blog on modified cars\",\n",
    "    run_config=run,\n",
    "    # max_turns=1\n",
    "    )\n",
    "\n",
    "print(result.final_output)"
   ]
  }
 ],
 "metadata": {
  "kernelspec": {
   "display_name": "00practice",
   "language": "python",
   "name": "python3"
  },
  "language_info": {
   "codemirror_mode": {
    "name": "ipython",
    "version": 3
   },
   "file_extension": ".py",
   "mimetype": "text/x-python",
   "name": "python",
   "nbconvert_exporter": "python",
   "pygments_lexer": "ipython3",
   "version": "3.12.10"
  }
 },
 "nbformat": 4,
 "nbformat_minor": 5
}

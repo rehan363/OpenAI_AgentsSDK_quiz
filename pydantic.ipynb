{
 "cells": [
  {
   "cell_type": "code",
   "execution_count": 11,
   "id": "3a6d7950",
   "metadata": {},
   "outputs": [
    {
     "name": "stdout",
     "output_type": "stream",
     "text": [
      "User(name='n', age='gg', email='k')\n"
     ]
    }
   ],
   "source": [
    "from pydantic import BaseModel\n",
    "from dataclasses import dataclass\n",
    "@dataclass\n",
    "class User:\n",
    "    name: str\n",
    "    age: int\n",
    "    email: str\n",
    "\n",
    "user_1  = User(name = \"n\", age= \"gg\", email = \"k\")\n",
    "\n",
    "print(user_1)"
   ]
  },
  {
   "cell_type": "code",
   "execution_count": 25,
   "id": "aca01ca6",
   "metadata": {},
   "outputs": [
    {
     "ename": "ValueError",
     "evalue": "\"Teacher\" object has no field \"name\"",
     "output_type": "error",
     "traceback": [
      "\u001b[31m---------------------------------------------------------------------------\u001b[39m",
      "\u001b[31mValueError\u001b[39m                                Traceback (most recent call last)",
      "\u001b[36mCell\u001b[39m\u001b[36m \u001b[39m\u001b[32mIn[25]\u001b[39m\u001b[32m, line 7\u001b[39m\n\u001b[32m      4\u001b[39m         \u001b[38;5;28mself\u001b[39m.name = name\n\u001b[32m      5\u001b[39m         \u001b[38;5;28mself\u001b[39m.age = age\n\u001b[32m----> \u001b[39m\u001b[32m7\u001b[39m teacher1 :Teacher = \u001b[43mTeacher\u001b[49m\u001b[43m(\u001b[49m\u001b[43mname\u001b[49m\u001b[43m \u001b[49m\u001b[43m=\u001b[49m\u001b[43m \u001b[49m\u001b[33;43m\"\u001b[39;49m\u001b[33;43mal\u001b[39;49m\u001b[33;43m\"\u001b[39;49m\u001b[43m,\u001b[49m\u001b[43m \u001b[49m\u001b[43mage\u001b[49m\u001b[43m=\u001b[49m\u001b[32;43m99\u001b[39;49m\u001b[43m)\u001b[49m\n\u001b[32m      8\u001b[39m \u001b[38;5;28mprint\u001b[39m(teacher1.name)\n\u001b[32m      9\u001b[39m \u001b[38;5;28mprint\u001b[39m(teacher1.age)\n",
      "\u001b[36mCell\u001b[39m\u001b[36m \u001b[39m\u001b[32mIn[25]\u001b[39m\u001b[32m, line 4\u001b[39m, in \u001b[36mTeacher.__init__\u001b[39m\u001b[34m(self, name, age)\u001b[39m\n\u001b[32m      3\u001b[39m \u001b[38;5;28;01mdef\u001b[39;00m\u001b[38;5;250m \u001b[39m\u001b[34m__init__\u001b[39m (\u001b[38;5;28mself\u001b[39m, name:\u001b[38;5;28mstr\u001b[39m, age: \u001b[38;5;28mint\u001b[39m):\n\u001b[32m----> \u001b[39m\u001b[32m4\u001b[39m     \u001b[38;5;28;43mself\u001b[39;49m\u001b[43m.\u001b[49m\u001b[43mname\u001b[49m = name\n\u001b[32m      5\u001b[39m     \u001b[38;5;28mself\u001b[39m.age = age\n",
      "\u001b[36mFile \u001b[39m\u001b[32me:\\openai_agents sdk quizes practice\\00pydantic\\.venv\\Lib\\site-packages\\pydantic\\main.py:997\u001b[39m, in \u001b[36mBaseModel.__setattr__\u001b[39m\u001b[34m(self, name, value)\u001b[39m\n\u001b[32m    995\u001b[39m     setattr_handler(\u001b[38;5;28mself\u001b[39m, name, value)\n\u001b[32m    996\u001b[39m \u001b[38;5;66;03m# if None is returned from _setattr_handler, the attribute was set directly\u001b[39;00m\n\u001b[32m--> \u001b[39m\u001b[32m997\u001b[39m \u001b[38;5;28;01melif\u001b[39;00m (setattr_handler := \u001b[38;5;28;43mself\u001b[39;49m\u001b[43m.\u001b[49m\u001b[43m_setattr_handler\u001b[49m\u001b[43m(\u001b[49m\u001b[43mname\u001b[49m\u001b[43m,\u001b[49m\u001b[43m \u001b[49m\u001b[43mvalue\u001b[49m\u001b[43m)\u001b[49m) \u001b[38;5;129;01mis\u001b[39;00m \u001b[38;5;129;01mnot\u001b[39;00m \u001b[38;5;28;01mNone\u001b[39;00m:\n\u001b[32m    998\u001b[39m     setattr_handler(\u001b[38;5;28mself\u001b[39m, name, value)  \u001b[38;5;66;03m# call here to not memo on possibly unknown fields\u001b[39;00m\n\u001b[32m    999\u001b[39m     \u001b[38;5;28mself\u001b[39m.__pydantic_setattr_handlers__[name] = setattr_handler\n",
      "\u001b[36mFile \u001b[39m\u001b[32me:\\openai_agents sdk quizes practice\\00pydantic\\.venv\\Lib\\site-packages\\pydantic\\main.py:1044\u001b[39m, in \u001b[36mBaseModel._setattr_handler\u001b[39m\u001b[34m(self, name, value)\u001b[39m\n\u001b[32m   1041\u001b[39m \u001b[38;5;28;01melif\u001b[39;00m name \u001b[38;5;129;01mnot\u001b[39;00m \u001b[38;5;129;01min\u001b[39;00m \u001b[38;5;28mcls\u001b[39m.__pydantic_fields__:\n\u001b[32m   1042\u001b[39m     \u001b[38;5;28;01mif\u001b[39;00m \u001b[38;5;28mcls\u001b[39m.model_config.get(\u001b[33m'\u001b[39m\u001b[33mextra\u001b[39m\u001b[33m'\u001b[39m) != \u001b[33m'\u001b[39m\u001b[33mallow\u001b[39m\u001b[33m'\u001b[39m:\n\u001b[32m   1043\u001b[39m         \u001b[38;5;66;03m# TODO - matching error\u001b[39;00m\n\u001b[32m-> \u001b[39m\u001b[32m1044\u001b[39m         \u001b[38;5;28;01mraise\u001b[39;00m \u001b[38;5;167;01mValueError\u001b[39;00m(\u001b[33mf\u001b[39m\u001b[33m'\u001b[39m\u001b[33m\"\u001b[39m\u001b[38;5;132;01m{\u001b[39;00m\u001b[38;5;28mcls\u001b[39m.\u001b[34m__name__\u001b[39m\u001b[38;5;132;01m}\u001b[39;00m\u001b[33m\"\u001b[39m\u001b[33m object has no field \u001b[39m\u001b[33m\"\u001b[39m\u001b[38;5;132;01m{\u001b[39;00mname\u001b[38;5;132;01m}\u001b[39;00m\u001b[33m\"\u001b[39m\u001b[33m'\u001b[39m)\n\u001b[32m   1045\u001b[39m     \u001b[38;5;28;01melif\u001b[39;00m attr \u001b[38;5;129;01mis\u001b[39;00m \u001b[38;5;28;01mNone\u001b[39;00m:\n\u001b[32m   1046\u001b[39m         \u001b[38;5;66;03m# attribute does not exist, so put it in extra\u001b[39;00m\n\u001b[32m   1047\u001b[39m         \u001b[38;5;28mself\u001b[39m.__pydantic_extra__[name] = value\n",
      "\u001b[31mValueError\u001b[39m: \"Teacher\" object has no field \"name\""
     ]
    }
   ],
   "source": [
    "from pydantic import BaseModel\n",
    "class Teacher(BaseModel):\n",
    "    def __init__ (self, name:str, age: int):\n",
    "        self.name = name\n",
    "        self.age = age\n",
    "\n",
    "teacher1 :Teacher = Teacher(name = \"al\", age=99)\n",
    "print(teacher1.name)\n",
    "print(teacher1.age)\n"
   ]
  },
  {
   "cell_type": "code",
   "execution_count": 31,
   "id": "b383a1b8",
   "metadata": {},
   "outputs": [
    {
     "name": "stdout",
     "output_type": "stream",
     "text": [
      "ali\n",
      "44\n",
      "rehan@gmail.com\n"
     ]
    }
   ],
   "source": [
    "from typing import Optional\n",
    "#Email validation\n",
    "from pydantic import EmailStr, BaseModel\n",
    "class Student(BaseModel):\n",
    "    name: str\n",
    "    age: Optional[int] = None\n",
    "    email: EmailStr\n",
    "\n",
    "student1 = Student(name= \"ali\", age=44, email=\"rehan@gmail.com\")\n",
    "print(student1.name)\n",
    "print(student1.age)\n",
    "print(student1.email)"
   ]
  },
  {
   "cell_type": "code",
   "execution_count": 33,
   "id": "f416d21f",
   "metadata": {},
   "outputs": [
    {
     "ename": "ValidationError",
     "evalue": "1 validation error for Student\nmarks\n  Value error, Marks must be positive [type=value_error, input_value=-99, input_type=int]\n    For further information visit https://errors.pydantic.dev/2.11/v/value_error",
     "output_type": "error",
     "traceback": [
      "\u001b[31m---------------------------------------------------------------------------\u001b[39m",
      "\u001b[31mValidationError\u001b[39m                           Traceback (most recent call last)",
      "\u001b[36mCell\u001b[39m\u001b[36m \u001b[39m\u001b[32mIn[33]\u001b[39m\u001b[32m, line 15\u001b[39m\n\u001b[32m     12\u001b[39m             \u001b[38;5;28;01mraise\u001b[39;00m \u001b[38;5;167;01mValueError\u001b[39;00m(\u001b[33m\"\u001b[39m\u001b[33mMarks must be positive\u001b[39m\u001b[33m\"\u001b[39m)\n\u001b[32m     13\u001b[39m         \u001b[38;5;28;01mreturn\u001b[39;00m marks\n\u001b[32m---> \u001b[39m\u001b[32m15\u001b[39m student1 = \u001b[43mStudent\u001b[49m\u001b[43m(\u001b[49m\u001b[43mname\u001b[49m\u001b[43m=\u001b[49m\u001b[43m \u001b[49m\u001b[33;43m\"\u001b[39;49m\u001b[33;43mali\u001b[39;49m\u001b[33;43m\"\u001b[39;49m\u001b[43m,\u001b[49m\u001b[43m \u001b[49m\u001b[43mage\u001b[49m\u001b[43m=\u001b[49m\u001b[33;43m\"\u001b[39;49m\u001b[33;43m33\u001b[39;49m\u001b[33;43m\"\u001b[39;49m\u001b[43m,\u001b[49m\u001b[43m \u001b[49m\u001b[43memail\u001b[49m\u001b[43m=\u001b[49m\u001b[33;43m\"\u001b[39;49m\u001b[33;43mre@gmail.com\u001b[39;49m\u001b[33;43m\"\u001b[39;49m\u001b[43m,\u001b[49m\u001b[43m \u001b[49m\u001b[43mmarks\u001b[49m\u001b[43m=\u001b[49m\u001b[43m-\u001b[49m\u001b[32;43m99\u001b[39;49m\u001b[43m)\u001b[49m\n\u001b[32m     16\u001b[39m \u001b[38;5;28mprint\u001b[39m(student1.marks)\n",
      "\u001b[36mFile \u001b[39m\u001b[32me:\\openai_agents sdk quizes practice\\00pydantic\\.venv\\Lib\\site-packages\\pydantic\\main.py:253\u001b[39m, in \u001b[36mBaseModel.__init__\u001b[39m\u001b[34m(self, **data)\u001b[39m\n\u001b[32m    251\u001b[39m \u001b[38;5;66;03m# `__tracebackhide__` tells pytest and some other tools to omit this function from tracebacks\u001b[39;00m\n\u001b[32m    252\u001b[39m __tracebackhide__ = \u001b[38;5;28;01mTrue\u001b[39;00m\n\u001b[32m--> \u001b[39m\u001b[32m253\u001b[39m validated_self = \u001b[38;5;28;43mself\u001b[39;49m\u001b[43m.\u001b[49m\u001b[43m__pydantic_validator__\u001b[49m\u001b[43m.\u001b[49m\u001b[43mvalidate_python\u001b[49m\u001b[43m(\u001b[49m\u001b[43mdata\u001b[49m\u001b[43m,\u001b[49m\u001b[43m \u001b[49m\u001b[43mself_instance\u001b[49m\u001b[43m=\u001b[49m\u001b[38;5;28;43mself\u001b[39;49m\u001b[43m)\u001b[49m\n\u001b[32m    254\u001b[39m \u001b[38;5;28;01mif\u001b[39;00m \u001b[38;5;28mself\u001b[39m \u001b[38;5;129;01mis\u001b[39;00m \u001b[38;5;129;01mnot\u001b[39;00m validated_self:\n\u001b[32m    255\u001b[39m     warnings.warn(\n\u001b[32m    256\u001b[39m         \u001b[33m'\u001b[39m\u001b[33mA custom validator is returning a value other than `self`.\u001b[39m\u001b[38;5;130;01m\\n\u001b[39;00m\u001b[33m'\u001b[39m\n\u001b[32m    257\u001b[39m         \u001b[33m\"\u001b[39m\u001b[33mReturning anything other than `self` from a top level model validator isn\u001b[39m\u001b[33m'\u001b[39m\u001b[33mt supported when validating via `__init__`.\u001b[39m\u001b[38;5;130;01m\\n\u001b[39;00m\u001b[33m\"\u001b[39m\n\u001b[32m    258\u001b[39m         \u001b[33m'\u001b[39m\u001b[33mSee the `model_validator` docs (https://docs.pydantic.dev/latest/concepts/validators/#model-validators) for more details.\u001b[39m\u001b[33m'\u001b[39m,\n\u001b[32m    259\u001b[39m         stacklevel=\u001b[32m2\u001b[39m,\n\u001b[32m    260\u001b[39m     )\n",
      "\u001b[31mValidationError\u001b[39m: 1 validation error for Student\nmarks\n  Value error, Marks must be positive [type=value_error, input_value=-99, input_type=int]\n    For further information visit https://errors.pydantic.dev/2.11/v/value_error"
     ]
    }
   ],
   "source": [
    "from typing import Optional\n",
    "#Email validation\n",
    "from pydantic import EmailStr, BaseModel, field_validator\n",
    "class Student(BaseModel):\n",
    "    name: str\n",
    "    age: Optional[int] = None\n",
    "    email: EmailStr\n",
    "    marks: int\n",
    "    @field_validator('marks')\n",
    "    def marks_must_be_positive (cls, marks):\n",
    "        if marks < 0:\n",
    "            raise ValueError(\"Marks must be positive\")\n",
    "        return marks\n",
    "\n",
    "student1 = Student(name= \"ali\", age=\"33\", email=\"re@gmail.com\", marks=-99)\n",
    "print(student1.marks)"
   ]
  },
  {
   "cell_type": "code",
   "execution_count": null,
   "id": "d91288d8",
   "metadata": {},
   "outputs": [
    {
     "name": "stdout",
     "output_type": "stream",
     "text": [
      "Product Name: Fresh Flo, Price: 33.0, Description: really nice product, Tags: with lavander extracts, Email: sales@freshaflo.com\n",
      "{\"name\":\"Fresh Flo\",\"price\":33.0,\"discription\":\"really nice product\",\"tags\":[\"with lavander extracts\"],\"email\":\"sales@freshaflo.com\"}\n"
     ]
    },
    {
     "name": "stderr",
     "output_type": "stream",
     "text": [
      "C:\\Users\\rehan\\AppData\\Local\\Temp\\ipykernel_16788\\4215958717.py:36: PydanticDeprecatedSince20: The `json` method is deprecated; use `model_dump_json` instead. Deprecated in Pydantic V2.0 to be removed in V3.0. See Pydantic V2 Migration Guide at https://errors.pydantic.dev/2.11/migration/\n",
      "  soap_details = soap.json()\n"
     ]
    }
   ],
   "source": [
    "from typing import Optional, List\n",
    "from pydantic import EmailStr, BaseModel, field_validator\n",
    "\n",
    "class Product(BaseModel):\n",
    "    name: str\n",
    "    price: float\n",
    "    discription: Optional[str] = None\n",
    "    tags: List\n",
    "    email: EmailStr\n",
    "\n",
    "    # Custom validators\n",
    "\n",
    "    @field_validator('name')\n",
    "    def name_should_not_be_empty(cls, v):\n",
    "        if not v :\n",
    "            raise ValueError(\"Product name must not be empty\")\n",
    "        return v\n",
    "    \n",
    "    @field_validator('price')\n",
    "    def price_must_not_be_negative(cls, v):\n",
    "        if v<0:\n",
    "            raise ValueError(\"Price must be positive.\")\n",
    "        return v\n",
    "    \n",
    "    def product_info(self):\n",
    "        return f\"Product Name: {self.name}, Price: {self.price}, Description: {self.discription}, Tags: {', '.join(self.tags)}, Email: {self.email}\"\n",
    "\n",
    "soap : Product = Product(\n",
    "    name=\"Fresh Flo\",\n",
    "    price=33.0,\n",
    "    discription= \"really nice product\",\n",
    "    tags=[\"with lavander extracts\"],\n",
    "    email=\"sales@freshaflo.com\"\n",
    ")\n",
    "\n",
    "soap_details = soap.product_info()\n",
    "print(soap_details)\n",
    "soap_details = soap.json()\n",
    "print(soap_details)\n",
    "# print(soap.name)\n",
    "# print(soap.price)\n",
    "# print(soap.discription)\n",
    "# print(soap.tags)\n",
    "# print(soap.email)\n"
   ]
  },
  {
   "cell_type": "code",
   "execution_count": null,
   "id": "fba44aa6",
   "metadata": {},
   "outputs": [],
   "source": []
  }
 ],
 "metadata": {
  "kernelspec": {
   "display_name": ".venv",
   "language": "python",
   "name": "python3"
  },
  "language_info": {
   "codemirror_mode": {
    "name": "ipython",
    "version": 3
   },
   "file_extension": ".py",
   "mimetype": "text/x-python",
   "name": "python",
   "nbconvert_exporter": "python",
   "pygments_lexer": "ipython3",
   "version": "3.12.10"
  }
 },
 "nbformat": 4,
 "nbformat_minor": 5
}
